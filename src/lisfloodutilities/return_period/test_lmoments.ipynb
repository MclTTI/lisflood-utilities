{
 "cells": [
  {
   "cell_type": "markdown",
   "metadata": {},
   "source": [
    "# Test L-moments\n",
    "Author: M Iotti  \n",
    "reference: https://lmoments3.readthedocs.io/en/stable/index.html"
   ]
  },
  {
   "cell_type": "code",
   "execution_count": 50,
   "metadata": {},
   "outputs": [],
   "source": [
    "import sys\n",
    "import numpy as np\n",
    "import lmoments3 as lm\n",
    "sys.path.append(\"/home/nemi/urbanflood/lisflood-utilities/src/lisfloodutilities/return_period\")\n",
    "from lmoments import lmoments, lmoments_new"
   ]
  },
  {
   "cell_type": "code",
   "execution_count": 51,
   "metadata": {},
   "outputs": [],
   "source": [
    "a = np.random.rand(100)"
   ]
  },
  {
   "cell_type": "code",
   "execution_count": 52,
   "metadata": {},
   "outputs": [],
   "source": [
    "l1_ck, l2_ck ,t3_ck = lm.lmom_ratios(a,nmom=3)\n",
    "l3_ck = t3_ck * l2_ck"
   ]
  },
  {
   "cell_type": "code",
   "execution_count": 58,
   "metadata": {},
   "outputs": [],
   "source": [
    "l1, l2, l3 = lmoments(a)\n",
    "l1_new, l2_new, l3_new = lmoments_new(a)"
   ]
  },
  {
   "cell_type": "code",
   "execution_count": 63,
   "metadata": {},
   "outputs": [
    {
     "name": "stdout",
     "output_type": "stream",
     "text": [
      "False False False\n",
      "True True False\n"
     ]
    }
   ],
   "source": [
    "print(l1 == l1_ck, l2 ==l2_ck, l3 == l3_ck)\n",
    "print(l1_new == l1_ck, l2_new ==l2_ck, l3_new == l3_ck)"
   ]
  }
 ],
 "metadata": {
  "kernelspec": {
   "display_name": "CENTAUR",
   "language": "python",
   "name": "centaur"
  },
  "orig_nbformat": 4
 },
 "nbformat": 4,
 "nbformat_minor": 2
}
