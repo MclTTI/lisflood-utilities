{
 "cells": [
  {
   "cell_type": "markdown",
   "id": "513386c0-3873-482a-95c5-73a2e9757b4c",
   "metadata": {},
   "source": [
    "# Test Return Period\n",
    "\n",
    "Author: M Iotti  \n",
    "reference: https://lmoments3.readthedocs.io/en/stable/index.html"
   ]
  },
  {
   "cell_type": "code",
   "execution_count": 41,
   "id": "d8b84db7",
   "metadata": {},
   "outputs": [],
   "source": [
    "import os\n",
    "import sys\n",
    "\n",
    "import numpy as np"
   ]
  },
  {
   "cell_type": "code",
   "execution_count": 42,
   "id": "e1ae3d1c",
   "metadata": {},
   "outputs": [
    {
     "data": {
      "text/plain": [
       "array([16.80175083, 42.96237245, 33.69988895, 47.57810408, 24.20914573,\n",
       "       55.07657357, 44.50472724, 24.58014155, 40.91598931, 24.14410336])"
      ]
     },
     "execution_count": 42,
     "metadata": {},
     "output_type": "execute_result"
    }
   ],
   "source": [
    "# GEV paramters\n",
    "\n",
    "k = 0.07825235\n",
    "loc = 8.65263\n",
    "scale = 4.456708\n",
    "\n",
    "x = np.random.gamma(10,scale=3,size=(10))\n",
    "x"
   ]
  },
  {
   "cell_type": "code",
   "execution_count": 43,
   "id": "d4dc3b47",
   "metadata": {},
   "outputs": [
    {
     "name": "stdout",
     "output_type": "stream",
     "text": [
      "[7.70606206e+00 1.31537061e+05 1.64429442e+03 2.42224608e+06\n",
      " 5.94662598e+01 2.33746559e+09 3.24021057e+05 6.66552186e+01\n",
      " 4.35375174e+04 5.82950694e+01]\n",
      "[6.73796711e+00 2.20542712e+03 2.76424353e+02 6.21183782e+03\n",
      " 3.33076559e+01 3.34116400e+04 3.11718317e+03 3.61551782e+01\n",
      " 1.39359134e+03 3.28324034e+01]\n"
     ]
    }
   ],
   "source": [
    "sys.path.append(\"/home/nemi/urbanflood/lisflood-utilities/src/lisfloodutilities/return_period\")\n",
    "from return_period import return_period_GEV, return_period_Gumbel\n",
    "\n",
    "rp_GEV = return_period_GEV(x,k,scale,loc)\n",
    "print(rp_GEV)\n",
    "\n",
    "rp_Gumbel = return_period_Gumbel(x,scale,loc)\n",
    "print(rp_Gumbel)"
   ]
  },
  {
   "cell_type": "code",
   "execution_count": 44,
   "id": "b4f60940",
   "metadata": {},
   "outputs": [
    {
     "name": "stdout",
     "output_type": "stream",
     "text": [
      "[7.70606206e+00 1.31537061e+05 1.64429442e+03 2.42224608e+06\n",
      " 5.94662598e+01 2.33746564e+09 3.24021057e+05 6.66552186e+01\n",
      " 4.35375174e+04 5.82950694e+01]\n",
      "[6.73796711e+00 2.20542712e+03 2.76424353e+02 6.21183782e+03\n",
      " 3.33076559e+01 3.34116400e+04 3.11718317e+03 3.61551782e+01\n",
      " 1.39359134e+03 3.28324034e+01]\n"
     ]
    }
   ],
   "source": [
    "from scipy.stats import genextreme, gumbel_r\n",
    "\n",
    "rp_GEV_scipy = 1 / genextreme.sf(x,k,loc=loc,scale=scale)\n",
    "print(rp_GEV_scipy)\n",
    "\n",
    "rp_Gumbel_scipy = 1 / gumbel_r.sf(x,loc=loc,scale=scale)\n",
    "print(rp_Gumbel_scipy)"
   ]
  },
  {
   "cell_type": "code",
   "execution_count": 45,
   "id": "b4afc6fc",
   "metadata": {},
   "outputs": [],
   "source": [
    "assert rp_GEV.all() == rp_GEV_scipy.all()\n",
    "assert rp_Gumbel.all() == rp_Gumbel_scipy.all()"
   ]
  },
  {
   "cell_type": "code",
   "execution_count": null,
   "id": "89dc214e-f389-46ef-b345-5cdfbf7af3ce",
   "metadata": {},
   "outputs": [],
   "source": []
  }
 ],
 "metadata": {
  "kernelspec": {
   "display_name": "CENTAUR",
   "language": "python",
   "name": "centaur"
  }
 },
 "nbformat": 4,
 "nbformat_minor": 5
}
